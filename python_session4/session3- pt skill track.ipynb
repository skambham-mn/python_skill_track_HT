{
 "cells": [
  {
   "cell_type": "markdown",
   "metadata": {},
   "source": [
    "## Lambda Functions"
   ]
  },
  {
   "cell_type": "code",
   "execution_count": 1,
   "metadata": {},
   "outputs": [
    {
     "data": {
      "text/plain": [
       "9"
      ]
     },
     "execution_count": 1,
     "metadata": {},
     "output_type": "execute_result"
    }
   ],
   "source": [
    "x = lambda a:a*a\n",
    "x(3)"
   ]
  },
  {
   "cell_type": "code",
   "execution_count": 2,
   "metadata": {},
   "outputs": [
    {
     "data": {
      "text/plain": [
       "9"
      ]
     },
     "execution_count": 2,
     "metadata": {},
     "output_type": "execute_result"
    }
   ],
   "source": [
    "def new(a):\n",
    "    return a*a\n",
    "new(3)"
   ]
  },
  {
   "cell_type": "code",
   "execution_count": 4,
   "metadata": {},
   "outputs": [
    {
     "data": {
      "text/plain": [
       "11"
      ]
     },
     "execution_count": 4,
     "metadata": {},
     "output_type": "execute_result"
    }
   ],
   "source": [
    "def higher(x):\n",
    "    return(lambda y:x+y)\n",
    "t = higher(4)\n",
    "t(7)"
   ]
  },
  {
   "cell_type": "code",
   "execution_count": 7,
   "metadata": {},
   "outputs": [
    {
     "data": {
      "text/plain": [
       "[6]"
      ]
     },
     "execution_count": 7,
     "metadata": {},
     "output_type": "execute_result"
    }
   ],
   "source": [
    "mylist =[1,2,3,4,5,6,7,8,9]\n",
    "newlist = list(filter(lambda a:(a/3 == 2),mylist))\n",
    "newlist"
   ]
  },
  {
   "cell_type": "code",
   "execution_count": 8,
   "metadata": {},
   "outputs": [
    {
     "data": {
      "text/plain": [
       "[False, False, False, False, False, True, False, False, False]"
      ]
     },
     "execution_count": 8,
     "metadata": {},
     "output_type": "execute_result"
    }
   ],
   "source": [
    "maplist = list(map(lambda a:(a/3 == 2),mylist))\n",
    "maplist"
   ]
  },
  {
   "cell_type": "code",
   "execution_count": 12,
   "metadata": {},
   "outputs": [
    {
     "data": {
      "text/plain": [
       "45"
      ]
     },
     "execution_count": 12,
     "metadata": {},
     "output_type": "execute_result"
    }
   ],
   "source": [
    "from functools import reduce\n",
    "reducelist =reduce(lambda a,b:a+b, mylist)\n",
    "reducelist"
   ]
  },
  {
   "cell_type": "markdown",
   "metadata": {},
   "source": [
    "# OOPS Python examples"
   ]
  },
  {
   "cell_type": "code",
   "execution_count": 28,
   "metadata": {},
   "outputs": [
    {
     "data": {
      "text/plain": [
       "12"
      ]
     },
     "execution_count": 28,
     "metadata": {},
     "output_type": "execute_result"
    }
   ],
   "source": [
    "class Employee:\n",
    "    def __init__(self, ID, salary, department):\n",
    "        self.ID = ID\n",
    "        self.salary = salary\n",
    "        self.department = department\n",
    "    \n",
    "    def tax(self):\n",
    "        return (self.salary*0.2)\n",
    "    \n",
    "    def salaryperday(self):\n",
    "        return (self.salary/30)\n",
    "\n",
    "surya = Employee(12, 10000 ,'HTPD')\n",
    "surya.ID"
   ]
  },
  {
   "cell_type": "code",
   "execution_count": 29,
   "metadata": {},
   "outputs": [
    {
     "data": {
      "text/plain": [
       "2000.0"
      ]
     },
     "execution_count": 29,
     "metadata": {},
     "output_type": "execute_result"
    }
   ],
   "source": [
    "surya.tax()"
   ]
  },
  {
   "cell_type": "code",
   "execution_count": 30,
   "metadata": {},
   "outputs": [
    {
     "data": {
      "text/plain": [
       "333.3333333333333"
      ]
     },
     "execution_count": 30,
     "metadata": {},
     "output_type": "execute_result"
    }
   ],
   "source": [
    "surya.salaryperday()"
   ]
  },
  {
   "cell_type": "markdown",
   "metadata": {},
   "source": [
    "## Encaplsulation"
   ]
  },
  {
   "cell_type": "code",
   "execution_count": 32,
   "metadata": {},
   "outputs": [
    {
     "name": "stdout",
     "output_type": "stream",
     "text": [
      "Access Granted!!\n",
      "Invalid credentials!\n",
      "Invalid credentials!\n",
      "Access Granted!!\n"
     ]
    }
   ],
   "source": [
    "class user:\n",
    "    def __init__(self, username =None, password =None):\n",
    "        self.username =username\n",
    "        self.password = password\n",
    "    \n",
    "    def login(self, username, password):\n",
    "        if((self.username.lower() == username.lower()) and (self.password ==password)):\n",
    "            print(\"Access Granted!!\")\n",
    "        else:\n",
    "            print(\"Invalid credentials!\")\n",
    "surya = user('Surya', '123456')\n",
    "surya.login('surya', '123456')\n",
    "surya.login('surya', '32132')\n",
    "surya.password = '6789'\n",
    "surya.login('surya', '123456')\n",
    "surya.login('surya', '6789')"
   ]
  },
  {
   "cell_type": "code",
   "execution_count": 36,
   "metadata": {},
   "outputs": [
    {
     "name": "stdout",
     "output_type": "stream",
     "text": [
      "I have 3 sides\n"
     ]
    }
   ],
   "source": [
    "class Polygon():\n",
    "    def howmanysides():\n",
    "        pass\n",
    "class triangle(Polygon):\n",
    "    def howmanysides(self):\n",
    "        print('I have 3 sides')\n",
    "        \n",
    "class square(Polygon):\n",
    "    def howmanysides(self):\n",
    "        print('i have 4 sides')\n",
    "\n",
    "sample =triangle()\n",
    "sample.howmanysides()"
   ]
  },
  {
   "cell_type": "markdown",
   "metadata": {},
   "source": [
    "## Inheritence"
   ]
  },
  {
   "cell_type": "code",
   "execution_count": 40,
   "metadata": {},
   "outputs": [
    {
     "name": "stdout",
     "output_type": "stream",
     "text": [
      "I am a vechile class\n",
      "I am a car class\n",
      "I am a hybrid\n"
     ]
    }
   ],
   "source": [
    "class vehicle:\n",
    "    def display(self):\n",
    "        print('I am a vechile class')\n",
    "\n",
    "class car(vehicle):\n",
    "    def display(self):\n",
    "        super().display()\n",
    "        print('I am a car class')\n",
    "class Hybrid(car):\n",
    "    def display(self):\n",
    "        super().display()\n",
    "        print('I am a hybrid')\n",
    "\n",
    "hondacity =Hybrid()\n",
    "hondacity.display()"
   ]
  },
  {
   "cell_type": "markdown",
   "metadata": {},
   "source": [
    "## Polymorphism"
   ]
  },
  {
   "cell_type": "code",
   "execution_count": 52,
   "metadata": {},
   "outputs": [
    {
     "name": "stdout",
     "output_type": "stream",
     "text": [
      "70\n",
      "50.2592\n"
     ]
    }
   ],
   "source": [
    "class rectangle:\n",
    "    def __init__(self, length =0, width =0):\n",
    "        self.length = length\n",
    "        self.width = width\n",
    "    def area(self):\n",
    "        self.area1 =self.length*self.width\n",
    "        return(self.area1)        \n",
    "class circle():\n",
    "    def __init__(self, radius=0):\n",
    "        self.radius =radius\n",
    "        \n",
    "    def area(self):\n",
    "        return(self.radius*self.radius*3.1412)\n",
    "       \n",
    "shapes = [rectangle(10, 7), circle(4)]\n",
    "print(str(shapes[0].area()))\n",
    "print(str(shapes[1].area()))"
   ]
  },
  {
   "cell_type": "code",
   "execution_count": 53,
   "metadata": {},
   "outputs": [
    {
     "name": "stdout",
     "output_type": "stream",
     "text": [
      "70\n"
     ]
    }
   ],
   "source": [
    "print(myrectangle.area1)"
   ]
  },
  {
   "cell_type": "markdown",
   "metadata": {},
   "source": [
    "## File Handling"
   ]
  },
  {
   "cell_type": "code",
   "execution_count": 59,
   "metadata": {},
   "outputs": [],
   "source": [
    "myfile = open('fruits.txt')"
   ]
  },
  {
   "cell_type": "code",
   "execution_count": 60,
   "metadata": {},
   "outputs": [],
   "source": [
    "content = myfile.read()"
   ]
  },
  {
   "cell_type": "code",
   "execution_count": 61,
   "metadata": {},
   "outputs": [
    {
     "data": {
      "text/plain": [
       "'mango\\napple\\npineapple\\nwatermelon\\npomogrenate\\nguava'"
      ]
     },
     "execution_count": 61,
     "metadata": {},
     "output_type": "execute_result"
    }
   ],
   "source": [
    "content"
   ]
  },
  {
   "cell_type": "code",
   "execution_count": 66,
   "metadata": {},
   "outputs": [],
   "source": [
    "with open('fruits.txt', 'w') as myfile:\n",
    "    myfile.write('\\npineapple1')"
   ]
  },
  {
   "cell_type": "code",
   "execution_count": null,
   "metadata": {},
   "outputs": [],
   "source": [
    "do we build a basic website onpython from scrath\n",
    "do we build a program ro scrape the web for particular data\n",
    "\n",
    "high level, fast data processing using numpy and pandas"
   ]
  }
 ],
 "metadata": {
  "kernelspec": {
   "display_name": "Python 3.7.2 64-bit",
   "language": "python",
   "name": "python37264bite61d8a55485f4c58bace001c8f24eacf"
  },
  "language_info": {
   "codemirror_mode": {
    "name": "ipython",
    "version": 3
   },
   "file_extension": ".py",
   "mimetype": "text/x-python",
   "name": "python",
   "nbconvert_exporter": "python",
   "pygments_lexer": "ipython3",
   "version": "3.7.2"
  }
 },
 "nbformat": 4,
 "nbformat_minor": 2
}
